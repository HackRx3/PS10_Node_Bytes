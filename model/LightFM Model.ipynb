{
 "cells": [
  {
   "cell_type": "code",
   "execution_count": 5,
   "id": "faa0a2fa",
   "metadata": {},
   "outputs": [],
   "source": [
    "import requests\n",
    "import pandas as pd\n",
    "from bs4 import BeautifulSoup"
   ]
  },
  {
   "cell_type": "code",
   "execution_count": 3,
   "id": "9f4b1140",
   "metadata": {},
   "outputs": [],
   "source": [
    "import csv\n",
    "import matplotlib.pyplot as plt"
   ]
  },
  {
   "cell_type": "code",
   "execution_count": 46,
   "id": "4aaaca3b",
   "metadata": {},
   "outputs": [],
   "source": [
    "baseurl = \"https://www.bajajallianz.com/general-insurance.html\""
   ]
  },
  {
   "cell_type": "code",
   "execution_count": 47,
   "id": "7526ff2c",
   "metadata": {},
   "outputs": [],
   "source": [
    "headers = {'User-Agent': 'Mozilla/5.0 (Macintosh; Intel Mac OS X 11_5) AppleWebKit/537.36 (KHTML, like Gecko) Chrome/92.0.4515.107 Safari/537.36'}"
   ]
  },
  {
   "cell_type": "code",
   "execution_count": 48,
   "id": "46ee32c0",
   "metadata": {},
   "outputs": [
    {
     "name": "stdout",
     "output_type": "stream",
     "text": [
      "Requirement already satisfied: httplib2 in c:\\users\\kiit\\anaconda3\\lib\\site-packages (0.20.4)\n",
      "Requirement already satisfied: pyparsing!=3.0.0,!=3.0.1,!=3.0.2,!=3.0.3,<4,>=2.4.2 in c:\\users\\kiit\\anaconda3\\lib\\site-packages (from httplib2) (3.0.4)\n",
      "Note: you may need to restart the kernel to use updated packages.\n"
     ]
    }
   ],
   "source": [
    "pip install httplib2"
   ]
  },
  {
   "cell_type": "code",
   "execution_count": 49,
   "id": "a79e92c6",
   "metadata": {},
   "outputs": [],
   "source": [
    "import httplib2\n"
   ]
  },
  {
   "cell_type": "code",
   "execution_count": 50,
   "id": "e30483fb",
   "metadata": {},
   "outputs": [],
   "source": [
    "http = httplib2.Http()\n",
    "\n",
    "response, content = http.request(baseurl)\n",
    "\n",
    "links = []\n",
    "title = []\n"
   ]
  },
  {
   "cell_type": "code",
   "execution_count": 51,
   "id": "52fcb153",
   "metadata": {},
   "outputs": [],
   "source": [
    "soup = BeautifulSoup(content)\n",
    "for link in soup.findAll(\"a\",attrs={'href': re.compile(\"^https://\")}):\n",
    "    links.append(str(link.attrs['href']))\n",
    "    title.append(str(link.get('title')))"
   ]
  },
  {
   "cell_type": "code",
   "execution_count": 52,
   "id": "da12dc86",
   "metadata": {},
   "outputs": [],
   "source": [
    "df = pd.DataFrame(list(zip(links,title)), columns =['LINK', 'TITLE'])"
   ]
  },
  {
   "cell_type": "code",
   "execution_count": 42,
   "id": "b5cd6e2d",
   "metadata": {},
   "outputs": [],
   "source": [
    "df.to_csv('bajaj_insurance_datasets.csv')\n"
   ]
  },
  {
   "cell_type": "code",
   "execution_count": 53,
   "id": "0e41fc0f",
   "metadata": {},
   "outputs": [
    {
     "data": {
      "text/plain": [
       "(104, 2)"
      ]
     },
     "execution_count": 53,
     "metadata": {},
     "output_type": "execute_result"
    }
   ],
   "source": [
    "df.shape"
   ]
  },
  {
   "cell_type": "code",
   "execution_count": 54,
   "id": "7f30c0e5",
   "metadata": {},
   "outputs": [
    {
     "data": {
      "text/html": [
       "<div>\n",
       "<style scoped>\n",
       "    .dataframe tbody tr th:only-of-type {\n",
       "        vertical-align: middle;\n",
       "    }\n",
       "\n",
       "    .dataframe tbody tr th {\n",
       "        vertical-align: top;\n",
       "    }\n",
       "\n",
       "    .dataframe thead th {\n",
       "        text-align: right;\n",
       "    }\n",
       "</style>\n",
       "<table border=\"1\" class=\"dataframe\">\n",
       "  <thead>\n",
       "    <tr style=\"text-align: right;\">\n",
       "      <th></th>\n",
       "      <th>LINK</th>\n",
       "      <th>TITLE</th>\n",
       "    </tr>\n",
       "  </thead>\n",
       "  <tbody>\n",
       "    <tr>\n",
       "      <th>0</th>\n",
       "      <td>https://www.bajajallianz.com/about-us/customer...</td>\n",
       "      <td>Support</td>\n",
       "    </tr>\n",
       "    <tr>\n",
       "      <th>1</th>\n",
       "      <td>https://www.bajajallianz.com/about-us.html</td>\n",
       "      <td>About Us</td>\n",
       "    </tr>\n",
       "    <tr>\n",
       "      <th>2</th>\n",
       "      <td>https://jobs.bjaz.in/#!/</td>\n",
       "      <td>Careers</td>\n",
       "    </tr>\n",
       "    <tr>\n",
       "      <th>3</th>\n",
       "      <td>https://www.bajajallianz.com/about-us/become-g...</td>\n",
       "      <td>Become An Agent</td>\n",
       "    </tr>\n",
       "    <tr>\n",
       "      <th>4</th>\n",
       "      <td>https://www.bajajallianz.com/about-us/general-...</td>\n",
       "      <td>Awards</td>\n",
       "    </tr>\n",
       "    <tr>\n",
       "      <th>5</th>\n",
       "      <td>https://www.bajajallianz.com/motor-insurance.html</td>\n",
       "      <td>Motor Insurance</td>\n",
       "    </tr>\n",
       "    <tr>\n",
       "      <th>6</th>\n",
       "      <td>https://www.bajajallianz.com/motor-insurance/c...</td>\n",
       "      <td>Car Insurance</td>\n",
       "    </tr>\n",
       "    <tr>\n",
       "      <th>7</th>\n",
       "      <td>https://www.bajajallianz.com/motor-insurance/t...</td>\n",
       "      <td>Two Wheeler Insurance</td>\n",
       "    </tr>\n",
       "    <tr>\n",
       "      <th>8</th>\n",
       "      <td>https://www.bajajallianz.com/motor-insurance/l...</td>\n",
       "      <td>Long Term Two Wheeler Insurance</td>\n",
       "    </tr>\n",
       "    <tr>\n",
       "      <th>9</th>\n",
       "      <td>https://www.bajajallianz.com/motor-insurance/t...</td>\n",
       "      <td>Third Party Car Insurance</td>\n",
       "    </tr>\n",
       "  </tbody>\n",
       "</table>\n",
       "</div>"
      ],
      "text/plain": [
       "                                                LINK  \\\n",
       "0  https://www.bajajallianz.com/about-us/customer...   \n",
       "1         https://www.bajajallianz.com/about-us.html   \n",
       "2                           https://jobs.bjaz.in/#!/   \n",
       "3  https://www.bajajallianz.com/about-us/become-g...   \n",
       "4  https://www.bajajallianz.com/about-us/general-...   \n",
       "5  https://www.bajajallianz.com/motor-insurance.html   \n",
       "6  https://www.bajajallianz.com/motor-insurance/c...   \n",
       "7  https://www.bajajallianz.com/motor-insurance/t...   \n",
       "8  https://www.bajajallianz.com/motor-insurance/l...   \n",
       "9  https://www.bajajallianz.com/motor-insurance/t...   \n",
       "\n",
       "                             TITLE  \n",
       "0                          Support  \n",
       "1                         About Us  \n",
       "2                          Careers  \n",
       "3                  Become An Agent  \n",
       "4                           Awards  \n",
       "5                  Motor Insurance  \n",
       "6                    Car Insurance  \n",
       "7            Two Wheeler Insurance  \n",
       "8  Long Term Two Wheeler Insurance  \n",
       "9        Third Party Car Insurance  "
      ]
     },
     "execution_count": 54,
     "metadata": {},
     "output_type": "execute_result"
    }
   ],
   "source": [
    "\n",
    "df.head(10)"
   ]
  },
  {
   "cell_type": "markdown",
   "id": "b01aef3f",
   "metadata": {},
   "source": [
    "# word2vec using para dataset\n"
   ]
  },
  {
   "cell_type": "code",
   "execution_count": 6,
   "id": "366933d7",
   "metadata": {},
   "outputs": [],
   "source": [
    "import numpy as np \n",
    "import pandas as pd"
   ]
  },
  {
   "cell_type": "code",
   "execution_count": 4,
   "id": "2fc57cdc",
   "metadata": {},
   "outputs": [],
   "source": [
    "import gensim\n",
    "import json"
   ]
  },
  {
   "cell_type": "code",
   "execution_count": 7,
   "id": "5e13b7c0",
   "metadata": {},
   "outputs": [
    {
     "data": {
      "text/html": [
       "<div>\n",
       "<style scoped>\n",
       "    .dataframe tbody tr th:only-of-type {\n",
       "        vertical-align: middle;\n",
       "    }\n",
       "\n",
       "    .dataframe tbody tr th {\n",
       "        vertical-align: top;\n",
       "    }\n",
       "\n",
       "    .dataframe thead th {\n",
       "        text-align: right;\n",
       "    }\n",
       "</style>\n",
       "<table border=\"1\" class=\"dataframe\">\n",
       "  <thead>\n",
       "    <tr style=\"text-align: right;\">\n",
       "      <th></th>\n",
       "      <th>lines</th>\n",
       "    </tr>\n",
       "  </thead>\n",
       "  <tbody>\n",
       "    <tr>\n",
       "      <th>0</th>\n",
       "      <td>With the widest range of financial services</td>\n",
       "    </tr>\n",
       "    <tr>\n",
       "      <th>1</th>\n",
       "      <td>Bajaj Finserv Limited deals with financial ser...</td>\n",
       "    </tr>\n",
       "    <tr>\n",
       "      <th>2</th>\n",
       "      <td>Bajaj Finance Limited, is the lending and weal...</td>\n",
       "    </tr>\n",
       "    <tr>\n",
       "      <th>3</th>\n",
       "      <td>Bajaj Finserv Limited is the holding company f...</td>\n",
       "    </tr>\n",
       "    <tr>\n",
       "      <th>4</th>\n",
       "      <td>The two insurance companies, Bajaj Allianz Gen...</td>\n",
       "    </tr>\n",
       "    <tr>\n",
       "      <th>...</th>\n",
       "      <td>...</td>\n",
       "    </tr>\n",
       "    <tr>\n",
       "      <th>199124</th>\n",
       "      <td>PRE-APPROVED OFFERS ON FITNESS, TRAVEL, FASHION</td>\n",
       "    </tr>\n",
       "    <tr>\n",
       "      <th>199125</th>\n",
       "      <td>Low Brokerage Demat and Trading Account</td>\n",
       "    </tr>\n",
       "    <tr>\n",
       "      <th>199126</th>\n",
       "      <td>Home, Kitchen appliances &amp; Furniture on EMI</td>\n",
       "    </tr>\n",
       "    <tr>\n",
       "      <th>199127</th>\n",
       "      <td>Pre-approved category on Smartphones and Laptops</td>\n",
       "    </tr>\n",
       "    <tr>\n",
       "      <th>199128</th>\n",
       "      <td>Loan Against Property For Chartered Accountants</td>\n",
       "    </tr>\n",
       "  </tbody>\n",
       "</table>\n",
       "<p>199129 rows × 1 columns</p>\n",
       "</div>"
      ],
      "text/plain": [
       "                                                    lines\n",
       "0             With the widest range of financial services\n",
       "1       Bajaj Finserv Limited deals with financial ser...\n",
       "2       Bajaj Finance Limited, is the lending and weal...\n",
       "3       Bajaj Finserv Limited is the holding company f...\n",
       "4       The two insurance companies, Bajaj Allianz Gen...\n",
       "...                                                   ...\n",
       "199124    PRE-APPROVED OFFERS ON FITNESS, TRAVEL, FASHION\n",
       "199125            Low Brokerage Demat and Trading Account\n",
       "199126        Home, Kitchen appliances & Furniture on EMI\n",
       "199127   Pre-approved category on Smartphones and Laptops\n",
       "199128    Loan Against Property For Chartered Accountants\n",
       "\n",
       "[199129 rows x 1 columns]"
      ]
     },
     "execution_count": 7,
     "metadata": {},
     "output_type": "execute_result"
    }
   ],
   "source": [
    "website_text_df = pd.read_csv('paras-and-lines-website-scraped.csv')\n",
    "website_text_df"
   ]
  },
  {
   "cell_type": "code",
   "execution_count": 8,
   "id": "487937d1",
   "metadata": {},
   "outputs": [
    {
     "data": {
      "text/plain": [
       "0         [with, the, widest, range, of, financial, serv...\n",
       "1         [bajaj, finserv, limited, deals, with, financi...\n",
       "2         [bajaj, finance, limited, is, the, lending, an...\n",
       "3         [bajaj, finserv, limited, is, the, holding, co...\n",
       "4         [the, two, insurance, companies, bajaj, allian...\n",
       "                                ...                        \n",
       "199124    [pre, approved, offers, on, fitness, travel, f...\n",
       "199125       [low, brokerage, demat, and, trading, account]\n",
       "199126      [home, kitchen, appliances, furniture, on, emi]\n",
       "199127    [pre, approved, category, on, smartphones, and...\n",
       "199128    [loan, against, property, for, chartered, acco...\n",
       "Name: lines, Length: 199129, dtype: object"
      ]
     },
     "execution_count": 8,
     "metadata": {},
     "output_type": "execute_result"
    }
   ],
   "source": [
    "#Preprocessing the text obtained from scraping to convert them to tokens\n",
    "website_text = website_text_df['lines'].apply(gensim.utils.simple_preprocess)\n",
    "website_text"
   ]
  },
  {
   "cell_type": "code",
   "execution_count": 9,
   "id": "04069a44",
   "metadata": {},
   "outputs": [],
   "source": [
    "model = gensim.models.Word2Vec(\n",
    "    window=10,\n",
    "    min_count=2,\n",
    "    workers=4,\n",
    ")"
   ]
  },
  {
   "cell_type": "code",
   "execution_count": 10,
   "id": "fc32ce01",
   "metadata": {},
   "outputs": [],
   "source": [
    "#Building vocabulary for the model\n",
    "model.build_vocab(website_text, progress_per=1000)"
   ]
  },
  {
   "cell_type": "code",
   "execution_count": 11,
   "id": "dd38a855",
   "metadata": {},
   "outputs": [
    {
     "data": {
      "text/plain": [
       "(13768649, 18025075)"
      ]
     },
     "execution_count": 11,
     "metadata": {},
     "output_type": "execute_result"
    }
   ],
   "source": [
    "#Training the word2vec model\n",
    "model.train(website_text, total_examples=model.corpus_count, epochs=model.epochs)\n"
   ]
  },
  {
   "cell_type": "code",
   "execution_count": 95,
   "id": "96fbf82f",
   "metadata": {},
   "outputs": [
    {
     "data": {
      "text/plain": [
       "[('bookings', 0.6554956436157227),\n",
       " ('tickets', 0.6472042798995972),\n",
       " ('holiday', 0.6426656246185303),\n",
       " ('flight', 0.6423884630203247),\n",
       " ('eyewear', 0.5996072888374329),\n",
       " ('hotel', 0.5946332812309265),\n",
       " ('trip', 0.5797046422958374),\n",
       " ('flights', 0.5565446615219116),\n",
       " ('vacation', 0.5495190620422363),\n",
       " ('packages', 0.5494423508644104)]"
      ]
     },
     "execution_count": 95,
     "metadata": {},
     "output_type": "execute_result"
    }
   ],
   "source": [
    "model.wv.most_similar('travel')"
   ]
  },
  {
   "cell_type": "code",
   "execution_count": 13,
   "id": "9fff6589",
   "metadata": {
    "scrolled": true
   },
   "outputs": [
    {
     "data": {
      "text/html": [
       "<div>\n",
       "<style scoped>\n",
       "    .dataframe tbody tr th:only-of-type {\n",
       "        vertical-align: middle;\n",
       "    }\n",
       "\n",
       "    .dataframe tbody tr th {\n",
       "        vertical-align: top;\n",
       "    }\n",
       "\n",
       "    .dataframe thead th {\n",
       "        text-align: right;\n",
       "    }\n",
       "</style>\n",
       "<table border=\"1\" class=\"dataframe\">\n",
       "  <thead>\n",
       "    <tr style=\"text-align: right;\">\n",
       "      <th></th>\n",
       "      <th>links</th>\n",
       "    </tr>\n",
       "  </thead>\n",
       "  <tbody>\n",
       "    <tr>\n",
       "      <th>0</th>\n",
       "      <td>https://www.bajajfinserv.in/insights/best-mobi...</td>\n",
       "    </tr>\n",
       "    <tr>\n",
       "      <th>1</th>\n",
       "      <td>https://www.bajajfinserv.in/insights/best-mobi...</td>\n",
       "    </tr>\n",
       "    <tr>\n",
       "      <th>2</th>\n",
       "      <td>https://www.bajajfinserv.in/insights/top-5-inv...</td>\n",
       "    </tr>\n",
       "    <tr>\n",
       "      <th>3</th>\n",
       "      <td>https://www.bajajfinserv.in/insights/teeth-bra...</td>\n",
       "    </tr>\n",
       "    <tr>\n",
       "      <th>4</th>\n",
       "      <td>https://www.bajajfinserv.in/insights/mediclaim...</td>\n",
       "    </tr>\n",
       "    <tr>\n",
       "      <th>...</th>\n",
       "      <td>...</td>\n",
       "    </tr>\n",
       "    <tr>\n",
       "      <th>2049</th>\n",
       "      <td>https://www.bajajfinserv.in/insights/Indemnity...</td>\n",
       "    </tr>\n",
       "    <tr>\n",
       "      <th>2050</th>\n",
       "      <td>https://www.bajajfinserv.in/insights/Why-shoul...</td>\n",
       "    </tr>\n",
       "    <tr>\n",
       "      <th>2051</th>\n",
       "      <td>https://www.bajajfinserv.in/insights/What-is-p...</td>\n",
       "    </tr>\n",
       "    <tr>\n",
       "      <th>2052</th>\n",
       "      <td>https://www.bajajfinserv.in/insights/4-things-...</td>\n",
       "    </tr>\n",
       "    <tr>\n",
       "      <th>2053</th>\n",
       "      <td>https://www.bajajfinserv.in/insights/5-things-...</td>\n",
       "    </tr>\n",
       "  </tbody>\n",
       "</table>\n",
       "<p>2054 rows × 1 columns</p>\n",
       "</div>"
      ],
      "text/plain": [
       "                                                  links\n",
       "0     https://www.bajajfinserv.in/insights/best-mobi...\n",
       "1     https://www.bajajfinserv.in/insights/best-mobi...\n",
       "2     https://www.bajajfinserv.in/insights/top-5-inv...\n",
       "3     https://www.bajajfinserv.in/insights/teeth-bra...\n",
       "4     https://www.bajajfinserv.in/insights/mediclaim...\n",
       "...                                                 ...\n",
       "2049  https://www.bajajfinserv.in/insights/Indemnity...\n",
       "2050  https://www.bajajfinserv.in/insights/Why-shoul...\n",
       "2051  https://www.bajajfinserv.in/insights/What-is-p...\n",
       "2052  https://www.bajajfinserv.in/insights/4-things-...\n",
       "2053  https://www.bajajfinserv.in/insights/5-things-...\n",
       "\n",
       "[2054 rows x 1 columns]"
      ]
     },
     "execution_count": 13,
     "metadata": {},
     "output_type": "execute_result"
    }
   ],
   "source": [
    "urls_df = pd.read_csv('webpage-urls-to-recommend-from.csv')\n",
    "urls_df"
   ]
  },
  {
   "cell_type": "code",
   "execution_count": 96,
   "id": "e0d00f1e",
   "metadata": {},
   "outputs": [
    {
     "name": "stdout",
     "output_type": "stream",
     "text": [
      "flexi personal loan or a term loan what do i choose if i want to travel\n",
      "https://www.bajajfinserv.in/insights/flexi-personal-loan-or-a-term-loan-what-do-i-choose-if-i-want-to-travel\n",
      "\n",
      "sights/everything you need to know about taking a loan for your wedding\n",
      "https://cont-sites.bajajfinserv.in/insights/everything-you-need-to-know-about-taking-a-loan-for-your-wedding\n",
      "\n"
     ]
    }
   ],
   "source": [
    "query_keyword = 'travel'\n",
    "for link in urls_df['links']:\n",
    "    heading_in_url = link[100:]\n",
    "    words_in_url = heading_in_url.split('-')\n",
    "    for word in words_in_url:\n",
    "        if word.lower() in model.wv.key_to_index:\n",
    "            if model.wv.similarity(word.lower(), query_keyword) > 0.5:\n",
    "                print(link[37:].replace('-', ' '))\n",
    "                print(link[:200])\n",
    "                print()\n",
    "            break"
   ]
  },
  {
   "cell_type": "code",
   "execution_count": 84,
   "id": "e3ca0887",
   "metadata": {},
   "outputs": [],
   "source": [
    "links = urls_df['links']"
   ]
  },
  {
   "cell_type": "code",
   "execution_count": 65,
   "id": "3709aed3",
   "metadata": {},
   "outputs": [
    {
     "data": {
      "text/plain": [
       "[('emis', 0.6632044315338135),\n",
       " ('instalments', 0.4853419363498688),\n",
       " ('elica', 0.42314350605010986),\n",
       " ('swipe', 0.39923930168151855),\n",
       " ('electronics', 0.3897864520549774),\n",
       " ('converting', 0.36741340160369873),\n",
       " ('led', 0.3463621139526367),\n",
       " ('modular', 0.3396669626235962),\n",
       " ('convert', 0.3384273648262024),\n",
       " ('conveniently', 0.3345755636692047)]"
      ]
     },
     "execution_count": 65,
     "metadata": {},
     "output_type": "execute_result"
    }
   ],
   "source": [
    "model.wv.most_similar('emi')"
   ]
  },
  {
   "cell_type": "code",
   "execution_count": 17,
   "id": "06355778",
   "metadata": {},
   "outputs": [],
   "source": [
    "model.save('website.model')"
   ]
  },
  {
   "cell_type": "code",
   "execution_count": 18,
   "id": "25174591",
   "metadata": {},
   "outputs": [
    {
     "data": {
      "text/plain": [
       "[('loans', 0.7145527601242065),\n",
       " ('sanction', 0.5098801851272583),\n",
       " ('lender', 0.46249842643737793),\n",
       " ('buyout', 0.43983882665634155),\n",
       " ('funding', 0.41831231117248535),\n",
       " ('funds', 0.40471693873405457),\n",
       " ('debt', 0.3807753026485443),\n",
       " ('approval', 0.37304672598838806),\n",
       " ('financing', 0.371757835149765),\n",
       " ('interest', 0.3669756352901459)]"
      ]
     },
     "execution_count": 18,
     "metadata": {},
     "output_type": "execute_result"
    }
   ],
   "source": [
    "model.wv.most_similar('loan')"
   ]
  },
  {
   "cell_type": "code",
   "execution_count": 20,
   "id": "c1201564",
   "metadata": {},
   "outputs": [
    {
     "data": {
      "text/plain": [
       "[('cards', 0.627054750919342),\n",
       " ('cardholders', 0.4902092516422272),\n",
       " ('linking', 0.4631918668746948),\n",
       " ('scorea', 0.40656518936157227),\n",
       " ('cheque', 0.4060649871826172),\n",
       " ('inline', 0.3979335427284241),\n",
       " ('necs', 0.39280810952186584),\n",
       " ('cardholder', 0.38754013180732727),\n",
       " ('transact', 0.3818022906780243),\n",
       " ('bureaus', 0.3735854923725128)]"
      ]
     },
     "execution_count": 20,
     "metadata": {},
     "output_type": "execute_result"
    }
   ],
   "source": [
    "model.wv.most_similar('card')"
   ]
  },
  {
   "cell_type": "code",
   "execution_count": null,
   "id": "4d0c3fba",
   "metadata": {},
   "outputs": [],
   "source": []
  },
  {
   "cell_type": "code",
   "execution_count": null,
   "id": "eb880251",
   "metadata": {},
   "outputs": [],
   "source": []
  },
  {
   "cell_type": "code",
   "execution_count": null,
   "id": "5a09297a",
   "metadata": {},
   "outputs": [],
   "source": []
  }
 ],
 "metadata": {
  "kernelspec": {
   "display_name": "Python 3 (ipykernel)",
   "language": "python",
   "name": "python3"
  },
  "language_info": {
   "codemirror_mode": {
    "name": "ipython",
    "version": 3
   },
   "file_extension": ".py",
   "mimetype": "text/x-python",
   "name": "python",
   "nbconvert_exporter": "python",
   "pygments_lexer": "ipython3",
   "version": "3.9.12"
  }
 },
 "nbformat": 4,
 "nbformat_minor": 5
}
