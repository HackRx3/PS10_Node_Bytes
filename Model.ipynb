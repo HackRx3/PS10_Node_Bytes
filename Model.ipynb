{
 "cells": [
  {
   "cell_type": "code",
   "execution_count": 17,
   "id": "c49ba631",
   "metadata": {},
   "outputs": [],
   "source": [
    "import numpy as np # linear algebra\n",
    "import pandas as pd"
   ]
  },
  {
   "cell_type": "code",
   "execution_count": 19,
   "id": "cf110cce",
   "metadata": {},
   "outputs": [
    {
     "name": "stdout",
     "output_type": "stream",
     "text": [
      "Requirement already satisfied: sentence-transformers in c:\\users\\kiit\\anaconda3\\lib\\site-packages (2.2.1)\n",
      "Requirement already satisfied: huggingface-hub>=0.8.1 in c:\\users\\kiit\\anaconda3\\lib\\site-packages (from sentence-transformers) (0.8.1)\n",
      "Requirement already satisfied: torchvision in c:\\users\\kiit\\anaconda3\\lib\\site-packages (from sentence-transformers) (0.12.0)\n",
      "Requirement already satisfied: nltk in c:\\users\\kiit\\anaconda3\\lib\\site-packages (from sentence-transformers) (3.7)\n",
      "Requirement already satisfied: numpy in c:\\users\\kiit\\anaconda3\\lib\\site-packages (from sentence-transformers) (1.22.4)\n",
      "Requirement already satisfied: scipy in c:\\users\\kiit\\anaconda3\\lib\\site-packages (from sentence-transformers) (1.8.1)\n",
      "Requirement already satisfied: scikit-learn in c:\\users\\kiit\\anaconda3\\lib\\site-packages (from sentence-transformers) (1.0.2)\n",
      "Requirement already satisfied: tqdm in c:\\users\\kiit\\anaconda3\\lib\\site-packages (from sentence-transformers) (4.64.0)\n",
      "Requirement already satisfied: transformers<5.0.0,>=4.6.0 in c:\\users\\kiit\\anaconda3\\lib\\site-packages (from sentence-transformers) (4.20.1)\n",
      "Requirement already satisfied: torch>=1.6.0 in c:\\users\\kiit\\anaconda3\\lib\\site-packages (from sentence-transformers) (1.11.0)\n",
      "Requirement already satisfied: sentencepiece in c:\\users\\kiit\\anaconda3\\lib\\site-packages (from sentence-transformers) (0.1.96)\n",
      "Requirement already satisfied: requests in c:\\users\\kiit\\anaconda3\\lib\\site-packages (from huggingface-hub>=0.8.1->sentence-transformers) (2.27.1)\n",
      "Requirement already satisfied: filelock in c:\\users\\kiit\\anaconda3\\lib\\site-packages (from huggingface-hub>=0.8.1->sentence-transformers) (3.6.0)\n",
      "Requirement already satisfied: typing-extensions>=3.7.4.3 in c:\\users\\kiit\\anaconda3\\lib\\site-packages (from huggingface-hub>=0.8.1->sentence-transformers) (4.1.1)\n",
      "Requirement already satisfied: packaging>=20.9 in c:\\users\\kiit\\anaconda3\\lib\\site-packages (from huggingface-hub>=0.8.1->sentence-transformers) (21.3)\n",
      "Requirement already satisfied: pyyaml>=5.1 in c:\\users\\kiit\\anaconda3\\lib\\site-packages (from huggingface-hub>=0.8.1->sentence-transformers) (6.0)\n",
      "Requirement already satisfied: pyparsing!=3.0.5,>=2.0.2 in c:\\users\\kiit\\anaconda3\\lib\\site-packages (from packaging>=20.9->huggingface-hub>=0.8.1->sentence-transformers) (3.0.4)\n",
      "Requirement already satisfied: regex!=2019.12.17 in c:\\users\\kiit\\anaconda3\\lib\\site-packages (from transformers<5.0.0,>=4.6.0->sentence-transformers) (2022.3.15)\n",
      "Requirement already satisfied: tokenizers!=0.11.3,<0.13,>=0.11.1 in c:\\users\\kiit\\anaconda3\\lib\\site-packages (from transformers<5.0.0,>=4.6.0->sentence-transformers) (0.12.1)\n",
      "Requirement already satisfied: colorama in c:\\users\\kiit\\anaconda3\\lib\\site-packages (from tqdm->sentence-transformers) (0.4.4)\n",
      "Requirement already satisfied: click in c:\\users\\kiit\\anaconda3\\lib\\site-packages (from nltk->sentence-transformers) (8.0.4)\n",
      "Requirement already satisfied: joblib in c:\\users\\kiit\\anaconda3\\lib\\site-packages (from nltk->sentence-transformers) (1.1.0)\n",
      "Requirement already satisfied: charset-normalizer~=2.0.0 in c:\\users\\kiit\\anaconda3\\lib\\site-packages (from requests->huggingface-hub>=0.8.1->sentence-transformers) (2.0.4)\n",
      "Requirement already satisfied: idna<4,>=2.5 in c:\\users\\kiit\\anaconda3\\lib\\site-packages (from requests->huggingface-hub>=0.8.1->sentence-transformers) (3.3)\n",
      "Requirement already satisfied: urllib3<1.27,>=1.21.1 in c:\\users\\kiit\\anaconda3\\lib\\site-packages (from requests->huggingface-hub>=0.8.1->sentence-transformers) (1.26.9)\n",
      "Requirement already satisfied: certifi>=2017.4.17 in c:\\users\\kiit\\anaconda3\\lib\\site-packages (from requests->huggingface-hub>=0.8.1->sentence-transformers) (2021.10.8)\n",
      "Requirement already satisfied: threadpoolctl>=2.0.0 in c:\\users\\kiit\\anaconda3\\lib\\site-packages (from scikit-learn->sentence-transformers) (2.2.0)\n",
      "Requirement already satisfied: pillow!=8.3.*,>=5.3.0 in c:\\users\\kiit\\anaconda3\\lib\\site-packages (from torchvision->sentence-transformers) (9.0.1)\n"
     ]
    }
   ],
   "source": [
    "!pip install sentence-transformers"
   ]
  },
  {
   "cell_type": "code",
   "execution_count": 20,
   "id": "c4a33e8a",
   "metadata": {},
   "outputs": [
    {
     "name": "stdout",
     "output_type": "stream",
     "text": [
      "Sat Jun 25 18:41:21 2022       \n",
      "+-----------------------------------------------------------------------------+\n",
      "| NVIDIA-SMI 462.80       Driver Version: 462.80       CUDA Version: 11.2     |\n",
      "|-------------------------------+----------------------+----------------------+\n",
      "| GPU  Name            TCC/WDDM | Bus-Id        Disp.A | Volatile Uncorr. ECC |\n",
      "| Fan  Temp  Perf  Pwr:Usage/Cap|         Memory-Usage | GPU-Util  Compute M. |\n",
      "|                               |                      |               MIG M. |\n",
      "|===============================+======================+======================|\n",
      "|   0  GeForce MX330      WDDM  | 00000000:01:00.0 Off |                  N/A |\n",
      "| N/A   53C    P8    N/A /  N/A |     64MiB /  2048MiB |      0%      Default |\n",
      "|                               |                      |                  N/A |\n",
      "+-------------------------------+----------------------+----------------------+\n",
      "                                                                               \n",
      "+-----------------------------------------------------------------------------+\n",
      "| Processes:                                                                  |\n",
      "|  GPU   GI   CI        PID   Type   Process name                  GPU Memory |\n",
      "|        ID   ID                                                   Usage      |\n",
      "|=============================================================================|\n",
      "|  No running processes found                                                 |\n",
      "+-----------------------------------------------------------------------------+\n"
     ]
    }
   ],
   "source": [
    "!nvidia-smi "
   ]
  },
  {
   "cell_type": "code",
   "execution_count": 22,
   "id": "018e8b98",
   "metadata": {},
   "outputs": [
    {
     "name": "stdout",
     "output_type": "stream",
     "text": [
      "Collecting textblob\n",
      "  Downloading textblob-0.17.1-py2.py3-none-any.whl (636 kB)\n",
      "Requirement already satisfied: nltk>=3.1 in c:\\users\\kiit\\anaconda3\\lib\\site-packages (from textblob) (3.7)\n",
      "Requirement already satisfied: regex>=2021.8.3 in c:\\users\\kiit\\anaconda3\\lib\\site-packages (from nltk>=3.1->textblob) (2022.3.15)\n",
      "Requirement already satisfied: tqdm in c:\\users\\kiit\\anaconda3\\lib\\site-packages (from nltk>=3.1->textblob) (4.64.0)\n",
      "Requirement already satisfied: click in c:\\users\\kiit\\anaconda3\\lib\\site-packages (from nltk>=3.1->textblob) (8.0.4)\n",
      "Requirement already satisfied: joblib in c:\\users\\kiit\\anaconda3\\lib\\site-packages (from nltk>=3.1->textblob) (1.1.0)\n",
      "Requirement already satisfied: colorama in c:\\users\\kiit\\anaconda3\\lib\\site-packages (from click->nltk>=3.1->textblob) (0.4.4)\n",
      "Installing collected packages: textblob\n",
      "Successfully installed textblob-0.17.1\n"
     ]
    }
   ],
   "source": [
    "!pip install textblob"
   ]
  },
  {
   "cell_type": "code",
   "execution_count": 23,
   "id": "bff29fb4",
   "metadata": {},
   "outputs": [
    {
     "data": {
      "application/vnd.jupyter.widget-view+json": {
       "model_id": "2ca9b27aa47945ecb95c7f1bbf0a3c04",
       "version_major": 2,
       "version_minor": 0
      },
      "text/plain": [
       "Downloading:   0%|          | 0.00/690 [00:00<?, ?B/s]"
      ]
     },
     "metadata": {},
     "output_type": "display_data"
    },
    {
     "data": {
      "application/vnd.jupyter.widget-view+json": {
       "model_id": "9cc76fe9fbc54c62b58821c8337bd295",
       "version_major": 2,
       "version_minor": 0
      },
      "text/plain": [
       "Downloading:   0%|          | 0.00/190 [00:00<?, ?B/s]"
      ]
     },
     "metadata": {},
     "output_type": "display_data"
    },
    {
     "data": {
      "application/vnd.jupyter.widget-view+json": {
       "model_id": "3433dda412f9428e9c6eb7d5a32fc8ee",
       "version_major": 2,
       "version_minor": 0
      },
      "text/plain": [
       "Downloading:   0%|          | 0.00/115 [00:00<?, ?B/s]"
      ]
     },
     "metadata": {},
     "output_type": "display_data"
    },
    {
     "data": {
      "application/vnd.jupyter.widget-view+json": {
       "model_id": "9368752851034f96bd2ce679b7a2e962",
       "version_major": 2,
       "version_minor": 0
      },
      "text/plain": [
       "Downloading:   0%|          | 0.00/2.36M [00:00<?, ?B/s]"
      ]
     },
     "metadata": {},
     "output_type": "display_data"
    },
    {
     "data": {
      "application/vnd.jupyter.widget-view+json": {
       "model_id": "f7eb4e917fab40af867777c37ee7e5b4",
       "version_major": 2,
       "version_minor": 0
      },
      "text/plain": [
       "Downloading:   0%|          | 0.00/2.35k [00:00<?, ?B/s]"
      ]
     },
     "metadata": {},
     "output_type": "display_data"
    },
    {
     "data": {
      "application/vnd.jupyter.widget-view+json": {
       "model_id": "0b288119d374402b8b53e2e1592ae6cf",
       "version_major": 2,
       "version_minor": 0
      },
      "text/plain": [
       "Downloading:   0%|          | 0.00/554 [00:00<?, ?B/s]"
      ]
     },
     "metadata": {},
     "output_type": "display_data"
    },
    {
     "data": {
      "application/vnd.jupyter.widget-view+json": {
       "model_id": "a9aee8a5266c4d2a86c32a09aec14e53",
       "version_major": 2,
       "version_minor": 0
      },
      "text/plain": [
       "Downloading:   0%|          | 0.00/122 [00:00<?, ?B/s]"
      ]
     },
     "metadata": {},
     "output_type": "display_data"
    },
    {
     "data": {
      "application/vnd.jupyter.widget-view+json": {
       "model_id": "64043a51c0be49b485820637db9d4053",
       "version_major": 2,
       "version_minor": 0
      },
      "text/plain": [
       "Downloading:   0%|          | 0.00/265M [00:00<?, ?B/s]"
      ]
     },
     "metadata": {},
     "output_type": "display_data"
    },
    {
     "data": {
      "application/vnd.jupyter.widget-view+json": {
       "model_id": "167e67a233a64f4db4238ddd2496095b",
       "version_major": 2,
       "version_minor": 0
      },
      "text/plain": [
       "Downloading:   0%|          | 0.00/53.0 [00:00<?, ?B/s]"
      ]
     },
     "metadata": {},
     "output_type": "display_data"
    },
    {
     "data": {
      "application/vnd.jupyter.widget-view+json": {
       "model_id": "e33dfc3fbf70403eba8a11aad58abfcd",
       "version_major": 2,
       "version_minor": 0
      },
      "text/plain": [
       "Downloading:   0%|          | 0.00/112 [00:00<?, ?B/s]"
      ]
     },
     "metadata": {},
     "output_type": "display_data"
    },
    {
     "data": {
      "application/vnd.jupyter.widget-view+json": {
       "model_id": "ab27108419504cda9bc9924b9f0fc60a",
       "version_major": 2,
       "version_minor": 0
      },
      "text/plain": [
       "Downloading:   0%|          | 0.00/466k [00:00<?, ?B/s]"
      ]
     },
     "metadata": {},
     "output_type": "display_data"
    },
    {
     "data": {
      "application/vnd.jupyter.widget-view+json": {
       "model_id": "3cd54b552af34156abf93b8a8731a8c3",
       "version_major": 2,
       "version_minor": 0
      },
      "text/plain": [
       "Downloading:   0%|          | 0.00/376 [00:00<?, ?B/s]"
      ]
     },
     "metadata": {},
     "output_type": "display_data"
    },
    {
     "data": {
      "application/vnd.jupyter.widget-view+json": {
       "model_id": "3b5d725c0ffc4e37b7cea6bdc9458683",
       "version_major": 2,
       "version_minor": 0
      },
      "text/plain": [
       "Downloading:   0%|          | 0.00/232k [00:00<?, ?B/s]"
      ]
     },
     "metadata": {},
     "output_type": "display_data"
    },
    {
     "data": {
      "application/vnd.jupyter.widget-view+json": {
       "model_id": "d6fb4241a812435eb19cc91f13203157",
       "version_major": 2,
       "version_minor": 0
      },
      "text/plain": [
       "Downloading:   0%|          | 0.00/341 [00:00<?, ?B/s]"
      ]
     },
     "metadata": {},
     "output_type": "display_data"
    }
   ],
   "source": [
    "import pandas as pd\n",
    "import time\n",
    "from tqdm import tqdm\n",
    "import seaborn as sns\n",
    "import numpy as np\n",
    "from textblob import TextBlob\n",
    "import matplotlib.pyplot as plt\n",
    "from sentence_transformers import SentenceTransformer\n",
    "model = SentenceTransformer('msmarco-distilbert-base-dot-prod-v3')"
   ]
  },
  {
   "cell_type": "code",
   "execution_count": 25,
   "id": "a3a0c7af",
   "metadata": {},
   "outputs": [
    {
     "name": "stdout",
     "output_type": "stream",
     "text": [
      "<class 'pandas.core.frame.DataFrame'>\n",
      "RangeIndex: 2652 entries, 0 to 2651\n",
      "Data columns (total 4 columns):\n",
      " #   Column      Non-Null Count  Dtype \n",
      "---  ------      --------------  ----- \n",
      " 0   Unnamed: 0  2652 non-null   int64 \n",
      " 1   heading     2652 non-null   object\n",
      " 2   text        2645 non-null   object\n",
      " 3   url         2652 non-null   object\n",
      "dtypes: int64(1), object(3)\n",
      "memory usage: 83.0+ KB\n"
     ]
    }
   ],
   "source": [
    "data = pd.read_csv('preprocess_dataset.csv',memory_map=True)\n",
    "data.info()"
   ]
  },
  {
   "cell_type": "code",
   "execution_count": 26,
   "id": "7138e657",
   "metadata": {},
   "outputs": [
    {
     "data": {
      "text/plain": [
       "(2652, 4)"
      ]
     },
     "execution_count": 26,
     "metadata": {},
     "output_type": "execute_result"
    }
   ],
   "source": [
    "data.shape"
   ]
  },
  {
   "cell_type": "code",
   "execution_count": 27,
   "id": "9d4f2e74",
   "metadata": {},
   "outputs": [
    {
     "data": {
      "text/html": [
       "<div>\n",
       "<style scoped>\n",
       "    .dataframe tbody tr th:only-of-type {\n",
       "        vertical-align: middle;\n",
       "    }\n",
       "\n",
       "    .dataframe tbody tr th {\n",
       "        vertical-align: top;\n",
       "    }\n",
       "\n",
       "    .dataframe thead th {\n",
       "        text-align: right;\n",
       "    }\n",
       "</style>\n",
       "<table border=\"1\" class=\"dataframe\">\n",
       "  <thead>\n",
       "    <tr style=\"text-align: right;\">\n",
       "      <th></th>\n",
       "      <th>Unnamed: 0</th>\n",
       "      <th>heading</th>\n",
       "      <th>text</th>\n",
       "      <th>url</th>\n",
       "    </tr>\n",
       "  </thead>\n",
       "  <tbody>\n",
       "    <tr>\n",
       "      <th>0</th>\n",
       "      <td>0</td>\n",
       "      <td>Reasons to Buy Bajaj Allianz Travel Insurance</td>\n",
       "      <td>Whether you are planning a solo backpacking tr...</td>\n",
       "      <td>https://www.bajajfinservmarkets.in/insurance/t...</td>\n",
       "    </tr>\n",
       "    <tr>\n",
       "      <th>1</th>\n",
       "      <td>1</td>\n",
       "      <td>Why Travel Insurance is a Must-Have?</td>\n",
       "      <td>Why Travel Insurance is a Must-Have?What is th...</td>\n",
       "      <td>https://www.bajajfinservmarkets.in/insurance/t...</td>\n",
       "    </tr>\n",
       "    <tr>\n",
       "      <th>2</th>\n",
       "      <td>2</td>\n",
       "      <td>Why Choose Bajaj Allianz Travel Insurance?</td>\n",
       "      <td>Why Choose Bajaj Allianz Travel Insurance?You ...</td>\n",
       "      <td>https://www.bajajfinservmarkets.in/insurance/t...</td>\n",
       "    </tr>\n",
       "    <tr>\n",
       "      <th>3</th>\n",
       "      <td>3</td>\n",
       "      <td>Types of Travel Insurance Plans Available on F...</td>\n",
       "      <td>Types of Travel Insurance Plans Available on F...</td>\n",
       "      <td>https://www.bajajfinservmarkets.in/insurance/t...</td>\n",
       "    </tr>\n",
       "    <tr>\n",
       "      <th>4</th>\n",
       "      <td>4</td>\n",
       "      <td>Top Destination Covered Under Travel Insurance...</td>\n",
       "      <td>Top Destination Covered Under Travel Insurance...</td>\n",
       "      <td>https://www.bajajfinservmarkets.in/insurance/t...</td>\n",
       "    </tr>\n",
       "  </tbody>\n",
       "</table>\n",
       "</div>"
      ],
      "text/plain": [
       "   Unnamed: 0                                            heading  \\\n",
       "0           0      Reasons to Buy Bajaj Allianz Travel Insurance   \n",
       "1           1               Why Travel Insurance is a Must-Have?   \n",
       "2           2         Why Choose Bajaj Allianz Travel Insurance?   \n",
       "3           3  Types of Travel Insurance Plans Available on F...   \n",
       "4           4  Top Destination Covered Under Travel Insurance...   \n",
       "\n",
       "                                                text  \\\n",
       "0  Whether you are planning a solo backpacking tr...   \n",
       "1  Why Travel Insurance is a Must-Have?What is th...   \n",
       "2  Why Choose Bajaj Allianz Travel Insurance?You ...   \n",
       "3  Types of Travel Insurance Plans Available on F...   \n",
       "4  Top Destination Covered Under Travel Insurance...   \n",
       "\n",
       "                                                 url  \n",
       "0  https://www.bajajfinservmarkets.in/insurance/t...  \n",
       "1  https://www.bajajfinservmarkets.in/insurance/t...  \n",
       "2  https://www.bajajfinservmarkets.in/insurance/t...  \n",
       "3  https://www.bajajfinservmarkets.in/insurance/t...  \n",
       "4  https://www.bajajfinservmarkets.in/insurance/t...  "
      ]
     },
     "execution_count": 27,
     "metadata": {},
     "output_type": "execute_result"
    }
   ],
   "source": [
    "data.head()"
   ]
  },
  {
   "cell_type": "code",
   "execution_count": 29,
   "id": "039fb0aa",
   "metadata": {},
   "outputs": [
    {
     "data": {
      "text/plain": [
       "2093"
      ]
     },
     "execution_count": 29,
     "metadata": {},
     "output_type": "execute_result"
    }
   ],
   "source": [
    "import gc\n",
    "df = data[['heading','text','url']]\n",
    "del data\n",
    "gc.collect()"
   ]
  },
  {
   "cell_type": "code",
   "execution_count": null,
   "id": "d37637d7",
   "metadata": {},
   "outputs": [],
   "source": [
    "df.dropna(inplace=True)\n",
    "df.drop_duplicates(subset=['heading'],inplace=True)"
   ]
  },
  {
   "cell_type": "code",
   "execution_count": null,
   "id": "a01527ca",
   "metadata": {},
   "outputs": [],
   "source": [
    "df['doc_len'] = df['heading'].apply(lambda words: len(words.split()))\n",
    "max_seq_len = np.round(df['doc_len'].mean() + df['doc_len'].std()).astype(int)\n",
    "sns.distplot(df['doc_len'], hist=True, kde=True, color='b', label='doc len')\n",
    "plt.axvline(x=max_seq_len, color='k', linestyle='--', label='max len')\n",
    "plt.title('plot length'); plt.legend()\n",
    "plt.show()"
   ]
  },
  {
   "cell_type": "code",
   "execution_count": null,
   "id": "8bf2bad5",
   "metadata": {},
   "outputs": [],
   "source": [
    "!pip install faiss-cpu"
   ]
  },
  {
   "cell_type": "code",
   "execution_count": null,
   "id": "d86758e4",
   "metadata": {},
   "outputs": [],
   "source": [
    "import faiss\n",
    "encoded_data = model.encode(df.heading.tolist())\n",
    "encoded_data = np.asarray(encoded_data.astype('float32'))\n",
    "index = faiss.IndexIDMap(faiss.IndexFlatIP(768))\n",
    "index.add_with_ids(encoded_data, np.array(range(0, len(df))))\n",
    "faiss.write_index(index, 'heading.index')"
   ]
  },
  {
   "cell_type": "code",
   "execution_count": null,
   "id": "50e089d9",
   "metadata": {},
   "outputs": [],
   "source": [
    "def fetch_info(dataframe_idx):\n",
    "    info = df.iloc[dataframe_idx]\n",
    "    meta_dict = {}\n",
    "    meta_dict['heading'] = info['heading']\n",
    "    return meta_dict\n",
    "    \n",
    "def search(query, top_k, index, model):\n",
    "    t=time.time()\n",
    "    query_vector = model.encode([query])\n",
    "    top_k = index.search(query_vector, top_k)\n",
    "    print('>>>> Results in Total Time: {}'.format(time.time()-t))\n",
    "    top_k_ids = top_k[1].tolist()[0]\n",
    "    top_k_ids = list(np.unique(top_k_ids))\n",
    "    results =  [fetch_info(idx) for idx in top_k_ids]\n",
    "    return results"
   ]
  },
  {
   "cell_type": "code",
   "execution_count": 68,
   "id": "98e514bb",
   "metadata": {},
   "outputs": [
    {
     "name": "stdout",
     "output_type": "stream",
     "text": [
      ">>>> Results in Total Time: 0.03090643882751465\n",
      "\n",
      "\n",
      "{'heading': 'Claim Process for Pocket Insurance'}\n"
     ]
    }
   ],
   "source": [
    "from pprint import pprint\n",
    "\n",
    "query=\"Travel Insurance\"\n",
    "results=search(query, top_k=5, index=index, model=model)\n",
    "\n",
    "print(\"\\n\")\n",
    "# for result in results:\n",
    "#     #print('\\t',result)\n",
    "#     result\n",
    "\n",
    "for r in results:\n",
    "    print(r)"
   ]
  },
  {
   "cell_type": "code",
   "execution_count": 64,
   "id": "3aa0ab3c",
   "metadata": {},
   "outputs": [],
   "source": [
    "paragraphs=df.text.tolist()"
   ]
  },
  {
   "cell_type": "code",
   "execution_count": null,
   "id": "4b81a731",
   "metadata": {},
   "outputs": [],
   "source": [
    "from transformers import T5Tokenizer, T5ForConditionalGeneration\n",
    "import torch\n",
    "tokenizer = T5Tokenizer.from_pretrained('BeIR/query-gen-msmarco-t5-large-v1')\n",
    "model = T5ForConditionalGeneration.from_pretrained('BeIR/query-gen-msmarco-t5-large-v1')\n",
    "model.eval()"
   ]
  },
  {
   "cell_type": "code",
   "execution_count": null,
   "id": "51917fda",
   "metadata": {},
   "outputs": [],
   "source": []
  },
  {
   "cell_type": "code",
   "execution_count": null,
   "id": "e2857f83",
   "metadata": {},
   "outputs": [],
   "source": []
  }
 ],
 "metadata": {
  "kernelspec": {
   "display_name": "Python 3 (ipykernel)",
   "language": "python",
   "name": "python3"
  },
  "language_info": {
   "codemirror_mode": {
    "name": "ipython",
    "version": 3
   },
   "file_extension": ".py",
   "mimetype": "text/x-python",
   "name": "python",
   "nbconvert_exporter": "python",
   "pygments_lexer": "ipython3",
   "version": "3.9.12"
  }
 },
 "nbformat": 4,
 "nbformat_minor": 5
}
